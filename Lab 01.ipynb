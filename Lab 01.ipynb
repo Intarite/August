{
  "nbformat": 4,
  "nbformat_minor": 0,
  "metadata": {
    "colab": {
      "provenance": [],
      "authorship_tag": "ABX9TyOJBGupqAeCsXnv1a0b5Nd0"
    },
    "kernelspec": {
      "name": "python3",
      "display_name": "Python 3"
    },
    "language_info": {
      "name": "python"
    }
  },
  "cells": [
    {
      "cell_type": "code",
      "execution_count": null,
      "metadata": {
        "id": "RtddhKudkb4m"
      },
      "outputs": [],
      "source": [
        "import pandas, warnings, datetime\n",
        "\n",
        "import matplotlib.pyplot as plt\n",
        "\n",
        "warnings.filterwarnings(\"ignore\")"
      ]
    },
    {
      "cell_type": "code",
      "source": [
        "urlfile = \"online_retail.csv\"\n",
        "\n",
        "origin = pandas.read_table(urlfile, parse_dates=[\"Date\"], sep=\",\")\n",
        "\n",
        "origin.iloc[:5, :5]"
      ],
      "metadata": {
        "id": "43JMHYqisNyw"
      },
      "execution_count": null,
      "outputs": []
    },
    {
      "cell_type": "code",
      "source": [
        "origin.iloc[:5, 5:]"
      ],
      "metadata": {
        "id": "WzH39vx9sSGl"
      },
      "execution_count": null,
      "outputs": []
    },
    {
      "cell_type": "code",
      "source": [
        "origin.isnull().sum().sum()"
      ],
      "metadata": {
        "id": "fzDMM3dwsYwW"
      },
      "execution_count": null,
      "outputs": []
    },
    {
      "cell_type": "code",
      "source": [
        "origin[\"Quantity\"].min(), origin[\"Price\"].min()"
      ],
      "metadata": {
        "id": "ylZGowEBsdK4"
      },
      "execution_count": null,
      "outputs": []
    },
    {
      "cell_type": "code",
      "source": [
        "origin = origin[(origin[\"Quantity\"] > 0) & (origin[\"Price\"] > 0)]\n",
        "\n",
        "origin[\"Quantity\"].min(), origin[\"Price\"].min()"
      ],
      "metadata": {
        "id": "HbZsVqT4sc5D"
      },
      "execution_count": null,
      "outputs": []
    },
    {
      "cell_type": "code",
      "source": [
        "origin[\"Total\"] = origin[\"Quantity\"] * origin[\"Price\"]\n",
        "\n",
        "origin.iloc[:5, 5:]"
      ],
      "metadata": {
        "id": "gofLVmMssm8x"
      },
      "execution_count": null,
      "outputs": []
    },
    {
      "cell_type": "code",
      "source": [
        "import datetime as dt\n",
        "\n",
        "def YearlyMonthly(tanggal, timer=\"Monthly\"):\n",
        "  # Monthly\n",
        "  if timer == \"Monthly\":\n",
        "    return tanggal.dt.to_period(\"M\")\n",
        "  # Yearly\n",
        "  elif timer == \"Yearly\":\n",
        "    return tanggal.dt.to_period(\"Y\")\n",
        "  # Quarterly\n",
        "  elif timer == \"Quarterly\":\n",
        "    return tanggal.dt.to_period(\"Q\")\n",
        "  # Weekly\n",
        "  elif timer == \"Weekly\":\n",
        "    return tanggal.dt.to_period(\"W\")\n",
        "  # Raise Value Error\n",
        "  else:\n",
        "    raise ValueError(\"Only Support Weekly, Monthly, Quarterly, Yearly\")"
      ],
      "metadata": {
        "id": "_nV_4nEMrdL6"
      },
      "execution_count": null,
      "outputs": []
    },
    {
      "cell_type": "code",
      "source": [
        "def CohortAnalyst(table, tanggal, customer):\n",
        "  # Set Invoice Month\n",
        "  table[\"InvoiceMonth\"] = table[tanggal].apply(yearly_monthly)\n",
        "  # Set Cohort Month\n",
        "  table[\"CohortMonth\"] = table.groupby(customer)[\"InvoiceMonth\"].transform(\"min\")\n",
        "  # Yearly, Montly Invoice\n",
        "  invoice_year, invoice_month = yearly_monthly(table[\"InvoiceMonth\"])\n",
        "  # Yearly, Monthly Cohort\n",
        "  cohort_year, cohort_month = yearly_monthly(table[\"CohortMonth\"])\n",
        "  # Cohort Index\n",
        "  yearly_diff = invoice_year - cohort_year\n",
        "  monthly_diff = invoice_month - cohort_month\n",
        "  table[\"CohortIndex\"] = yearly_diff * 12 + monthly_diff\n",
        "  # Return Result\n",
        "  return table"
      ],
      "metadata": {
        "id": "MHmszrul1bh1"
      },
      "execution_count": null,
      "outputs": []
    },
    {
      "cell_type": "code",
      "source": [
        "import seaborn as sns\n",
        "\n",
        "def HeatPlot(table, xlabel : str, ylabel : str, title : str, **multiplot):\n",
        "  # Set Heat Plot\n",
        "  ploti = sns.heatmap(table, cmap=\"Pastel1\", annot=True, fmt=\".1f\", **multiplot)\n",
        "  # Set Xlabel\n",
        "  ploti.set_xlabel(xlabel)\n",
        "  # Set Ylabel\n",
        "  ploti.set_ylabel(ylabel)\n",
        "  # Set Title\n",
        "  ploti.set_title(title);"
      ],
      "metadata": {
        "id": "8HmS64KLxptv"
      },
      "execution_count": null,
      "outputs": []
    }
  ]
}